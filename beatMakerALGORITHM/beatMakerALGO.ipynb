{
 "cells": [
  {
   "cell_type": "markdown",
   "metadata": {},
   "source": [
    "** Beat Maker **    "
   ]
  },
  {
   "cell_type": "code",
   "execution_count": 13,
   "metadata": {},
   "outputs": [
    {
     "name": "stdout",
     "output_type": "stream",
     "text": [
      "Requirement already satisfied: librosa in /opt/anaconda3/lib/python3.8/site-packages (0.10.2.post1)\n",
      "Requirement already satisfied: numpy in /opt/anaconda3/lib/python3.8/site-packages (1.24.4)\n",
      "Requirement already satisfied: audioread>=2.1.9 in /opt/anaconda3/lib/python3.8/site-packages (from librosa) (3.0.1)\n",
      "Requirement already satisfied: scipy>=1.2.0 in /opt/anaconda3/lib/python3.8/site-packages (from librosa) (1.5.2)\n",
      "Requirement already satisfied: scikit-learn>=0.20.0 in /opt/anaconda3/lib/python3.8/site-packages (from librosa) (0.23.2)\n",
      "Requirement already satisfied: joblib>=0.14 in /opt/anaconda3/lib/python3.8/site-packages (from librosa) (0.17.0)\n",
      "Requirement already satisfied: decorator>=4.3.0 in /opt/anaconda3/lib/python3.8/site-packages (from librosa) (4.4.2)\n",
      "Requirement already satisfied: numba>=0.51.0 in /opt/anaconda3/lib/python3.8/site-packages (from librosa) (0.51.2)\n",
      "Requirement already satisfied: soundfile>=0.12.1 in /opt/anaconda3/lib/python3.8/site-packages (from librosa) (0.12.1)\n",
      "Requirement already satisfied: pooch>=1.1 in /opt/anaconda3/lib/python3.8/site-packages (from librosa) (1.8.2)\n",
      "Requirement already satisfied: soxr>=0.3.2 in /opt/anaconda3/lib/python3.8/site-packages (from librosa) (0.3.7)\n",
      "Requirement already satisfied: typing-extensions>=4.1.1 in /opt/anaconda3/lib/python3.8/site-packages (from librosa) (4.8.0)\n",
      "Requirement already satisfied: lazy-loader>=0.1 in /opt/anaconda3/lib/python3.8/site-packages (from librosa) (0.4)\n",
      "Requirement already satisfied: msgpack>=1.0 in /opt/anaconda3/lib/python3.8/site-packages (from librosa) (1.0.3)\n",
      "Requirement already satisfied: packaging in /opt/anaconda3/lib/python3.8/site-packages (from lazy-loader>=0.1->librosa) (20.4)\n",
      "Requirement already satisfied: llvmlite<0.35,>=0.34.0.dev0 in /opt/anaconda3/lib/python3.8/site-packages (from numba>=0.51.0->librosa) (0.34.0)\n",
      "Requirement already satisfied: setuptools in /opt/anaconda3/lib/python3.8/site-packages (from numba>=0.51.0->librosa) (50.3.1.post20201107)\n",
      "Requirement already satisfied: platformdirs>=2.5.0 in /opt/anaconda3/lib/python3.8/site-packages (from pooch>=1.1->librosa) (4.2.2)\n",
      "Requirement already satisfied: requests>=2.19.0 in /opt/anaconda3/lib/python3.8/site-packages (from pooch>=1.1->librosa) (2.31.0)\n",
      "Requirement already satisfied: threadpoolctl>=2.0.0 in /opt/anaconda3/lib/python3.8/site-packages (from scikit-learn>=0.20.0->librosa) (2.1.0)\n",
      "Requirement already satisfied: cffi>=1.0 in /opt/anaconda3/lib/python3.8/site-packages (from soundfile>=0.12.1->librosa) (1.14.3)\n",
      "Requirement already satisfied: pycparser in /opt/anaconda3/lib/python3.8/site-packages (from cffi>=1.0->soundfile>=0.12.1->librosa) (2.20)\n",
      "Requirement already satisfied: pyparsing>=2.0.2 in /opt/anaconda3/lib/python3.8/site-packages (from packaging->lazy-loader>=0.1->librosa) (2.4.7)\n",
      "Requirement already satisfied: six in /opt/anaconda3/lib/python3.8/site-packages (from packaging->lazy-loader>=0.1->librosa) (1.15.0)\n",
      "Requirement already satisfied: charset-normalizer<4,>=2 in /opt/anaconda3/lib/python3.8/site-packages (from requests>=2.19.0->pooch>=1.1->librosa) (2.1.1)\n",
      "Requirement already satisfied: idna<4,>=2.5 in /opt/anaconda3/lib/python3.8/site-packages (from requests>=2.19.0->pooch>=1.1->librosa) (2.10)\n",
      "Requirement already satisfied: urllib3<3,>=1.21.1 in /opt/anaconda3/lib/python3.8/site-packages (from requests>=2.19.0->pooch>=1.1->librosa) (1.25.11)\n",
      "Requirement already satisfied: certifi>=2017.4.17 in /opt/anaconda3/lib/python3.8/site-packages (from requests>=2.19.0->pooch>=1.1->librosa) (2020.6.20)\n",
      "\u001b[33mDEPRECATION: pyodbc 4.0.0-unsupported has a non-standard version number. pip 23.3 will enforce this behaviour change. A possible replacement is to upgrade to a newer version of pyodbc or contact the author to suggest that they release a version with a conforming version number. Discussion can be found at https://github.com/pypa/pip/issues/12063\u001b[0m\u001b[33m\n",
      "\u001b[0m\n",
      "\u001b[1m[\u001b[0m\u001b[34;49mnotice\u001b[0m\u001b[1;39;49m]\u001b[0m\u001b[39;49m A new release of pip is available: \u001b[0m\u001b[31;49m23.2.1\u001b[0m\u001b[39;49m -> \u001b[0m\u001b[32;49m24.2\u001b[0m\n",
      "\u001b[1m[\u001b[0m\u001b[34;49mnotice\u001b[0m\u001b[1;39;49m]\u001b[0m\u001b[39;49m To update, run: \u001b[0m\u001b[32;49mpip install --upgrade pip\u001b[0m\n"
     ]
    }
   ],
   "source": [
    "! pip install librosa numpy"
   ]
  },
  {
   "cell_type": "code",
   "execution_count": 15,
   "metadata": {},
   "outputs": [],
   "source": [
    "# # Create a script to load your audio files and extract features. This will handle both MP3 and WAV files.\n",
    "\n",
    "# import librosa\n",
    "# import numpy as np\n",
    "\n",
    "# def load_and_extract_features(file_path):\n",
    "#     # Load the audio file\n",
    "#     y, sr = librosa.load(file_path)\n",
    "    \n",
    "#     # Extract tempo and beat frames\n",
    "#     tempo, beat_frames = librosa.beat.beat_track(y=y, sr=sr)\n",
    "    \n",
    "#     # Extract MFCC (Mel-frequency cepstral coefficients)\n",
    "#     mfcc = librosa.feature.mfcc(y=y, sr=sr, n_mfcc=13)\n",
    "    \n",
    "#     # Extract chroma feature\n",
    "#     chroma = librosa.feature.chroma_stft(y=y, sr=sr)\n",
    "    \n",
    "#     # Extract spectral contrast\n",
    "#     spectral_contrast = librosa.feature.spectral_contrast(y=y, sr=sr)\n",
    "    \n",
    "#     # Aggregate features into a dictionary\n",
    "#     features = {\n",
    "#         'tempo': tempo,\n",
    "#         'beat_frames': beat_frames,\n",
    "#         'mfcc': mfcc,\n",
    "#         'chroma': chroma,\n",
    "#         'spectral_contrast': spectral_contrast\n",
    "#     }\n",
    "    \n",
    "#     return features\n"
   ]
  },
  {
   "cell_type": "markdown",
   "metadata": {},
   "source": []
  },
  {
   "cell_type": "code",
   "execution_count": 4,
   "metadata": {},
   "outputs": [],
   "source": [
    "# # Next, write a function to process all audio files in a given directory.\n",
    "\n",
    "# import os\n",
    "# from load_and_extract_features import load_and_extract_features\n",
    "\n",
    "# def process_audio_files(directory):\n",
    "#     feature_list = []\n",
    "#     for filename in os.listdir(directory):\n",
    "#         if filename.endswith(\".wav\") or filename.endswith(\".mp3\"):\n",
    "#             file_path = os.path.join(directory, filename)\n",
    "#             features = load_and_extract_features(file_path)\n",
    "#             feature_list.append(features)\n",
    "#     return feature_list\n"
   ]
  },
  {
   "cell_type": "code",
   "execution_count": 38,
   "metadata": {},
   "outputs": [
    {
     "name": "stdout",
     "output_type": "stream",
     "text": [
      "{'tempo': 143.5546875, 'beat_frames': array([  20,   38,   56,   74,   93,  111,  129,  147,  165,  184,  202,\n",
      "        220,  238,  256,  275,  293,  311,  329,  347,  365,  384,  402,\n",
      "        420,  438,  456,  474,  493,  511,  529,  548,  566,  584,  602,\n",
      "        620,  638,  657,  675,  693,  711,  729,  747,  766,  784,  802,\n",
      "        820,  839,  857,  875,  893,  911,  930,  948,  966,  984, 1002,\n",
      "       1021, 1039, 1057, 1075, 1093, 1111, 1130, 1148, 1166, 1184, 1203,\n",
      "       1221, 1239, 1257, 1275, 1294, 1312, 1330, 1348, 1366, 1385, 1403,\n",
      "       1421, 1439, 1458, 1476, 1494, 1512, 1530, 1548, 1566, 1585, 1603,\n",
      "       1621, 1640, 1658, 1676, 1694, 1712, 1730, 1749, 1767, 1785, 1803,\n",
      "       1821, 1839, 1857, 1876, 1894, 1912, 1930, 1949, 1967, 1985, 2003,\n",
      "       2021, 2040, 2058, 2076, 2094, 2112, 2131, 2149, 2167, 2185, 2203,\n",
      "       2222, 2240, 2258, 2276, 2295, 2313, 2331, 2349, 2367, 2385, 2404,\n",
      "       2422, 2440, 2458, 2477, 2495, 2513, 2531, 2549, 2567, 2585, 2604,\n",
      "       2622, 2640, 2659, 2677, 2695, 2713, 2731, 2749, 2768, 2786, 2804,\n",
      "       2822, 2840, 2859, 2877, 2895, 2913, 2931, 2950, 2968, 2986, 3004,\n",
      "       3023, 3041, 3059, 3077, 3095, 3113, 3131, 3149, 3168, 3186, 3205,\n",
      "       3222, 3241, 3259, 3277, 3295, 3313, 3332, 3350, 3368, 3386, 3405,\n",
      "       3423, 3441, 3459, 3477, 3496, 3514, 3532, 3550, 3568, 3586, 3604,\n",
      "       3623, 3641, 3659, 3677, 3695, 3714, 3732, 3750, 3768, 3786, 3805,\n",
      "       3823, 3841, 3859, 3877, 3896, 3914, 3932, 3950, 3969, 3987, 4005,\n",
      "       4023, 4042, 4060, 4078, 4096, 4114, 4132, 4150, 4169, 4187, 4205,\n",
      "       4223, 4241, 4260, 4278, 4296, 4314, 4332, 4351, 4369, 4387, 4405,\n",
      "       4424, 4442, 4460, 4478, 4496, 4514, 4533, 4551, 4569, 4587, 4605,\n",
      "       4624, 4642, 4660, 4678, 4696, 4715, 4733, 4751, 4769, 4788, 4806,\n",
      "       4824, 4842, 4860, 4878, 4896, 4915, 4933, 4951, 4969, 4988, 5006,\n",
      "       5024, 5042, 5060, 5079, 5097, 5115, 5133, 5151, 5169, 5187, 5206,\n",
      "       5224, 5242, 5260, 5279, 5297, 5315, 5333, 5351, 5370, 5388, 5406,\n",
      "       5424, 5443, 5461, 5479, 5497, 5515, 5533, 5552, 5570, 5588, 5606,\n",
      "       5624, 5642, 5661, 5679, 5697, 5715, 5734, 5752, 5770, 5788, 5806,\n",
      "       5825, 5843, 5861, 5879, 5897, 5915, 5934, 5952, 5970, 5989]), 'mfcc': array([[ -42.21238 ,  -58.71183 , -182.73398 , ..., -450.84677 ,\n",
      "        -450.84677 , -450.84677 ],\n",
      "       [  52.08593 ,   75.16392 ,   98.811264, ...,    0.      ,\n",
      "           0.      ,    0.      ],\n",
      "       [ -31.468742,  -26.570532,  -21.726273, ...,    0.      ,\n",
      "           0.      ,    0.      ],\n",
      "       ...,\n",
      "       [ -32.48284 ,  -30.745224,  -25.570534, ...,    0.      ,\n",
      "           0.      ,    0.      ],\n",
      "       [  13.439603,   13.881626,   10.840263, ...,    0.      ,\n",
      "           0.      ,    0.      ],\n",
      "       [   8.593214,    7.956211,   10.867043, ...,    0.      ,\n",
      "           0.      ,    0.      ]], dtype=float32), 'chroma': array([[6.5405834e-01, 5.2125537e-01, 3.4110311e-01, ..., 3.1871002e-04,\n",
      "        1.7025523e-03, 1.7961016e-03],\n",
      "       [1.0000000e+00, 1.0000000e+00, 1.0000000e+00, ..., 2.7621243e-04,\n",
      "        9.4918255e-04, 1.5259786e-03],\n",
      "       [5.4369575e-01, 3.6291611e-01, 1.6519375e-01, ..., 2.4848885e-04,\n",
      "        3.7206072e-04, 4.1472272e-04],\n",
      "       ...,\n",
      "       [6.7093968e-02, 3.5534769e-02, 2.3942994e-02, ..., 9.4653678e-01,\n",
      "        1.0000000e+00, 8.8100320e-01],\n",
      "       [6.9270290e-02, 3.7966542e-02, 1.3269197e-02, ..., 2.4948095e-01,\n",
      "        2.5923026e-01, 4.0653235e-01],\n",
      "       [2.5237122e-01, 1.4164101e-01, 2.6030745e-02, ..., 4.4875504e-03,\n",
      "        8.8722631e-03, 1.7456409e-02]], dtype=float32), 'spectral_contrast': array([[28.02496775, 36.0137166 , 27.35706059, ..., 18.07926123,\n",
      "        17.55305845, 10.25279355],\n",
      "       [13.08994151,  8.17540185, 11.5177427 , ..., 27.33298329,\n",
      "        27.60661395, 25.19860396],\n",
      "       [25.05342842, 25.07801197, 27.16558686, ..., 40.68382613,\n",
      "        36.83438226, 31.60490999],\n",
      "       ...,\n",
      "       [16.22137902, 16.18304341, 21.32258759, ..., 16.47020281,\n",
      "        14.54871182, 14.86254035],\n",
      "       [17.97606091, 19.85587814, 22.5455608 , ..., 12.50915821,\n",
      "        15.82613362, 12.43038814],\n",
      "       [32.21973166, 33.41868645, 51.20127429, ..., 19.27289044,\n",
      "        17.36457384, 14.04454381]])}\n"
     ]
    }
   ],
   "source": [
    "#Finally, use these functions to process your audio files and extract features.\n",
    "\n",
    "from process_audio_files import process_audio_files\n",
    "\n",
    "# Specify your directory containing template beats\n",
    "directory = '/Users/montygash/Desktop/beatMakerALGORITHM/wav_files'\n",
    "\n",
    "# Process all audio files in the directory\n",
    "features = process_audio_files(directory)\n",
    "\n",
    "# Print the extracted features of the first file\n",
    "print(features[0])\n"
   ]
  },
  {
   "cell_type": "code",
   "execution_count": 35,
   "metadata": {},
   "outputs": [],
   "source": [
    "import os\n",
    "import librosa\n",
    "import numpy as np\n",
    "\n",
    "def extract_features(file_path):\n",
    "    # Extract features from the audio file\n",
    "    y, sr = librosa.load(file_path, sr=None)\n",
    "    tempo, _ = librosa.beat.beat_track(y=y, sr=sr)\n",
    "    spectral_contrast = np.mean(librosa.feature.spectral_contrast(y=y, sr=sr), axis=1)\n",
    "    mfccs = librosa.feature.mfcc(y=y, sr=sr).tolist()\n",
    "    beat_frames = librosa.beat.beat_track(y=y, sr=sr)[1].tolist()\n",
    "    \n",
    "    return {\n",
    "        'filename': os.path.basename(file_path),\n",
    "        'Tempo': tempo,\n",
    "        'Spectral Contrast': np.mean(spectral_contrast),\n",
    "        'MFCCs': mfccs,\n",
    "        'Beat Frames': beat_frames\n",
    "    }\n",
    "\n",
    "def process_audio_files(directory):\n",
    "    feature_list = []\n",
    "    for filename in os.listdir(directory):\n",
    "        if filename.endswith(\".wav\") or filename.endswith(\".mp3\"):\n",
    "            file_path = os.path.join(directory, filename)\n",
    "            features = extract_features(file_path)\n",
    "            feature_list.append(features)\n",
    "    return feature_list\n"
   ]
  },
  {
   "cell_type": "code",
   "execution_count": 40,
   "metadata": {},
   "outputs": [
    {
     "data": {
      "text/plain": [
       "<function process_audio_files.process_audio_files(directory)>"
      ]
     },
     "execution_count": 40,
     "metadata": {},
     "output_type": "execute_result"
    }
   ],
   "source": []
  },
  {
   "cell_type": "code",
   "execution_count": 36,
   "metadata": {},
   "outputs": [
    {
     "name": "stdout",
     "output_type": "stream",
     "text": [
      "Requirement already satisfied: pandas in /opt/anaconda3/lib/python3.8/site-packages (2.0.3)\n",
      "Requirement already satisfied: python-dateutil>=2.8.2 in /opt/anaconda3/lib/python3.8/site-packages (from pandas) (2.8.2)\n",
      "Requirement already satisfied: pytz>=2020.1 in /opt/anaconda3/lib/python3.8/site-packages (from pandas) (2020.1)\n",
      "Requirement already satisfied: tzdata>=2022.1 in /opt/anaconda3/lib/python3.8/site-packages (from pandas) (2023.3)\n",
      "Requirement already satisfied: numpy>=1.20.3 in /opt/anaconda3/lib/python3.8/site-packages (from pandas) (1.22.4)\n",
      "Requirement already satisfied: six>=1.5 in /opt/anaconda3/lib/python3.8/site-packages (from python-dateutil>=2.8.2->pandas) (1.15.0)\n",
      "\u001b[33mWARNING: Error parsing dependencies of pyodbc: Invalid version: '4.0.0-unsupported'\u001b[0m\u001b[33m\n",
      "\u001b[0m\u001b[31mERROR: Exception:\n",
      "Traceback (most recent call last):\n",
      "  File \"/opt/anaconda3/lib/python3.8/site-packages/pip/_internal/cli/base_command.py\", line 105, in _run_wrapper\n",
      "    status = _inner_run()\n",
      "  File \"/opt/anaconda3/lib/python3.8/site-packages/pip/_internal/cli/base_command.py\", line 96, in _inner_run\n",
      "    return self.run(options, args)\n",
      "  File \"/opt/anaconda3/lib/python3.8/site-packages/pip/_internal/cli/req_command.py\", line 67, in wrapper\n",
      "    return func(self, options, args)\n",
      "  File \"/opt/anaconda3/lib/python3.8/site-packages/pip/_internal/commands/install.py\", line 483, in run\n",
      "    installed_versions[distribution.canonical_name] = distribution.version\n",
      "  File \"/opt/anaconda3/lib/python3.8/site-packages/pip/_internal/metadata/pkg_resources.py\", line 192, in version\n",
      "    return parse_version(self._dist.version)\n",
      "  File \"/opt/anaconda3/lib/python3.8/site-packages/pip/_vendor/packaging/version.py\", line 56, in parse\n",
      "    return Version(version)\n",
      "  File \"/opt/anaconda3/lib/python3.8/site-packages/pip/_vendor/packaging/version.py\", line 202, in __init__\n",
      "    raise InvalidVersion(f\"Invalid version: '{version}'\")\n",
      "pip._vendor.packaging.version.InvalidVersion: Invalid version: '4.0.0-unsupported'\u001b[0m\u001b[31m\n",
      "\u001b[0mNote: you may need to restart the kernel to use updated packages.\n"
     ]
    }
   ],
   "source": [
    "# pip install pandas\n",
    "# # "
   ]
  },
  {
   "cell_type": "code",
   "execution_count": 41,
   "metadata": {},
   "outputs": [],
   "source": [
    "import pandas as pd\n",
    "\n",
    "# Example directory\n",
    "directory = '/Users/montygash/Desktop/beatMakerALGORITHM/wav_files'\n",
    "\n",
    "# Process all audio files and extract features\n",
    "features = process_audio_files(directory)\n",
    "\n",
    "# Convert to DataFrame\n",
    "df_features = pd.DataFrame(features)\n",
    "\n",
    "# Save to CSV\n",
    "df_features.to_csv('features.csv', index=False)\n"
   ]
  },
  {
   "cell_type": "code",
   "execution_count": 29,
   "metadata": {},
   "outputs": [
    {
     "data": {
      "text/plain": [
       "array([[-444.6828, -444.6828, -444.6828, ..., -444.6828, -444.6828,\n",
       "        -444.6828],\n",
       "       [   0.    ,    0.    ,    0.    , ...,    0.    ,    0.    ,\n",
       "           0.    ],\n",
       "       [   0.    ,    0.    ,    0.    , ...,    0.    ,    0.    ,\n",
       "           0.    ],\n",
       "       ...,\n",
       "       [   0.    ,    0.    ,    0.    , ...,    0.    ,    0.    ,\n",
       "           0.    ],\n",
       "       [   0.    ,    0.    ,    0.    , ...,    0.    ,    0.    ,\n",
       "           0.    ],\n",
       "       [   0.    ,    0.    ,    0.    , ...,    0.    ,    0.    ,\n",
       "           0.    ]], dtype=float32)"
      ]
     },
     "execution_count": 29,
     "metadata": {},
     "output_type": "execute_result"
    }
   ],
   "source": [
    "# Understand Features"
   ]
  },
  {
   "cell_type": "code",
   "execution_count": null,
   "metadata": {},
   "outputs": [],
   "source": []
  }
 ],
 "metadata": {
  "kernelspec": {
   "display_name": "base",
   "language": "python",
   "name": "python3"
  },
  "language_info": {
   "codemirror_mode": {
    "name": "ipython",
    "version": 3
   },
   "file_extension": ".py",
   "mimetype": "text/x-python",
   "name": "python",
   "nbconvert_exporter": "python",
   "pygments_lexer": "ipython3",
   "version": "3.8.5"
  }
 },
 "nbformat": 4,
 "nbformat_minor": 2
}
